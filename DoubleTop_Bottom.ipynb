{
  "nbformat": 4,
  "nbformat_minor": 0,
  "metadata": {
    "colab": {
      "provenance": [],
      "authorship_tag": "ABX9TyNOhJnsWXEff5JR8pRkSoVu",
      "include_colab_link": true
    },
    "kernelspec": {
      "name": "python3",
      "display_name": "Python 3"
    },
    "language_info": {
      "name": "python"
    }
  },
  "cells": [
    {
      "cell_type": "markdown",
      "metadata": {
        "id": "view-in-github",
        "colab_type": "text"
      },
      "source": [
        "<a href=\"https://colab.research.google.com/github/AaryanAnand10/Pattern-Recognizing-/blob/main/DoubleTop_Bottom.ipynb\" target=\"_parent\"><img src=\"https://colab.research.google.com/assets/colab-badge.svg\" alt=\"Open In Colab\"/></a>"
      ]
    },
    {
      "cell_type": "code",
      "execution_count": 1,
      "metadata": {
        "id": "YRWXERljsA9S"
      },
      "outputs": [],
      "source": [
        "import numpy as np\n",
        "import pandas as pd\n",
        "from scipy.signal import argrelextrema"
      ]
    },
    {
      "cell_type": "code",
      "source": [
        "class AdvancedPatternDetector:\n",
        "    def __init__(self, polynomial_degree=17, window_delta=10, bottom_threshold=1.15,\n",
        "                 top_threshold=0.85, pattern_threshold=0.12):\n",
        "\n",
        "        self.polynomial_degree = polynomial_degree\n",
        "        self.window_delta = window_delta\n",
        "        self.bottom_threshold = bottom_threshold\n",
        "        self.top_threshold = top_threshold\n",
        "        self.pattern_threshold = pattern_threshold"
      ],
      "metadata": {
        "id": "bNxP3SYnsZrL"
      },
      "execution_count": 5,
      "outputs": []
    },
    {
      "cell_type": "code",
      "source": [
        "def fit_polynomial(self, x_data, y_data):\n",
        "        \"\"\"Fit polynomial to price data\"\"\"\n",
        "        x = np.linspace(0, max(x_data), len(x_data))\n",
        "        pol = np.polyfit(x_data, y_data, self.polynomial_degree)\n",
        "        y_pol = np.polyval(pol, x)\n",
        "        return x, y_pol\n",
        "\n",
        "def find_extrema(self, data):\n",
        "        \"\"\"Find local minima and maxima in polynomial fit\"\"\"\n",
        "        # Find local minima and maxima using numpy diff\n",
        "        min_max = np.diff(np.sign(np.diff(data))).nonzero()[0] + 1\n",
        "        l_min = (np.diff(np.sign(np.diff(data))) > 0).nonzero()[0] + 1\n",
        "        l_max = (np.diff(np.sign(np.diff(data))) < 0).nonzero()[0] + 1\n",
        "        return l_min, l_max\n",
        "\n",
        "def analyze_price_windows(self, df, extrema, price_col):\n",
        "        \"\"\"Analyze price windows around extrema points\"\"\"\n",
        "        dict_windows = {}\n",
        "        df_len = len(df)\n",
        "\n",
        "        for point in extrema:\n",
        "            l_bound = max(0, point - self.window_delta)\n",
        "            u_bound = min(df_len, point + self.window_delta + 1)\n",
        "            x_range = range(l_bound, u_bound)\n",
        "\n",
        "            price_window = []\n",
        "            for x in x_range:\n",
        "                if 0 <= x < df_len:\n",
        "                    price_window.append(df[price_col].iloc[x])\n",
        "\n",
        "            if price_window:\n",
        "                avg_price = sum(price_window) / len(price_window)\n",
        "                min_price = min(price_window)\n",
        "                max_price = max(price_window)\n",
        "                dict_windows[point] = {\n",
        "                    'x_range': x_range,\n",
        "                    'prices': price_window,\n",
        "                    'avg_price': avg_price,\n",
        "                    'min_price': min_price,\n",
        "                    'max_price': max_price\n",
        "                }\n",
        "\n",
        "        return dict_windows"
      ],
      "metadata": {
        "id": "1P5XtapBsZtl"
      },
      "execution_count": 8,
      "outputs": []
    },
    {
      "cell_type": "code",
      "source": [],
      "metadata": {
        "id": "7n58PrtutTa3"
      },
      "execution_count": null,
      "outputs": []
    }
  ]
}